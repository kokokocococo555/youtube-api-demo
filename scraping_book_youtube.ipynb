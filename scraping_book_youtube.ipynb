{
 "cells": [
  {
   "cell_type": "markdown",
   "metadata": {},
   "source": [
    "- Windows10 64bit\n",
    "- Python3.5\n",
    "- MongoDB 4.0.2"
   ]
  },
  {
   "cell_type": "markdown",
   "metadata": {},
   "source": [
    "参考\n",
    "\n",
    "- [『Pythonクローリング＆スクレイピング―データ収集・解析のための実践開発ガイド―』技術評論社](https://gihyo.jp/book/2017/978-4-7741-8367-1)\n",
    "- [『退屈なことはPythonにやらせよう――ノンプログラマーにもできる自動化処理プログラミング』O'Reilly Japan](https://www.oreilly.co.jp/books/9784873117782/)"
   ]
  },
  {
   "cell_type": "markdown",
   "metadata": {},
   "source": [
    "# PythonからMongoDBを使用"
   ]
  },
  {
   "cell_type": "markdown",
   "metadata": {},
   "source": [
    "MongoDB用のディレクトリを作成しておく\n",
    "\n",
    "バックグラウンドでMongoDBを起動しておく\n",
    "\n",
    "起動\n",
    "\n",
    "`mongod --dbpath <MongoDBのデータ用ディレクトリへのパス>`\n",
    "\n",
    "\n",
    "参考：http://kageura.hatenadiary.jp/entry/2018/01/09/Windows%E7%89%88MongoDB%E3%81%AE%E3%82%A4%E3%83%B3%E3%82%B9%E3%83%88%E3%83%BC%E3%83%AB%E3%83%BBMongoShell%E3%82%92%E9%80%9A%E3%81%97%E3%81%A6CRUD%E3%82%B3%E3%83%9E%E3%83%B3%E3%83%89%E3%82%92%E6%89%93"
   ]
  },
  {
   "cell_type": "markdown",
   "metadata": {},
   "source": [
    "`BulkWriteError: batch op errors occurred`\n",
    "\n",
    "でよく止まる\n",
    "\n",
    "→動画が存在しない部分まで検索対象としてしまっている可能性がある。"
   ]
  },
  {
   "cell_type": "code",
   "execution_count": null,
   "metadata": {
    "collapsed": false,
    "scrolled": false
   },
   "outputs": [],
   "source": [
    "import os\n",
    "import sys\n",
    "\n",
    "from apiclient.discovery import build # pip install google-api-python-client\n",
    "from pymongo import MongoClient, DESCENDING\n",
    "\n",
    "YOUTUBE_API_KEY = '<APIキーを記入>' # 環境変数（.envファイル）からAPIを呼び出したいが、JupyterNotebookからだとなぜかエラーになる。\n",
    "\n",
    "query = '輝夜月'\n",
    "max_pages=8\n",
    "maxResults=50\n",
    "\n",
    "def main():\n",
    "    \"\"\"\n",
    "    メイン処理\n",
    "    \"\"\"\n",
    "    mongo_client = MongoClient('localhost', 27017)\n",
    "    db = mongo_client.kaguya2\n",
    "    collection = db.luna # kaguyaデータベース -> lunaコレクション\n",
    "    collection.delete_many({}) # 既存の全てのドキュメントを削除\n",
    "\n",
    "    sort_key='statistics.viewCount' # ランキング基準の指定\n",
    "\n",
    "    for items_per_page in search_videos(query, max_pages, maxResults):\n",
    "        save_to_mongodb(collection, items_per_page)\n",
    "\n",
    "\n",
    "def search_videos(query, max_pages=10, maxResults=50):\n",
    "    \"\"\"\n",
    "    動画を検索してページ単位でlistをyieldする\n",
    "    \"\"\"\n",
    "    youtube = build('youtube', 'v3', developerKey = YOUTUBE_API_KEY)\n",
    "\n",
    "    search_request = youtube.search().list(\n",
    "        part='id',\n",
    "        q=query,\n",
    "        type='video',\n",
    "        maxResults=maxResults,\n",
    "    )\n",
    "    \n",
    "    i = 0\n",
    "    while search_request and i < max_pages:\n",
    "        search_response = search_request.execute() # execute()で実際にHTTPリクエストを送信。APIのレスポンスを取得。\n",
    "        video_ids = [item['id']['videoId'] for item in search_response['items']]\n",
    "\n",
    "        videos_response = youtube.videos().list(\n",
    "            part='snippet,statistics',\n",
    "            id=','.join(video_ids)\n",
    "        ).execute()\n",
    "\n",
    "        yield videos_response['items']\n",
    "\n",
    "        search_request = youtube.search().list_next(search_request, search_response)\n",
    "        i += 1\n",
    "\n",
    "\n",
    "def save_to_mongodb(collection, items):\n",
    "    \"\"\"\n",
    "    MongoDBにアイテムのリストを保存\n",
    "    \"\"\"\n",
    "    for item in items:\n",
    "        item['_id'] = item['id']\n",
    "\n",
    "        for key, value in item['statistics'].items():\n",
    "            item['statistics'][key] = int(value)\n",
    "\n",
    "    result = collection.insert_many(items) # コレクションに挿入\n",
    "    print('Inserted {0} documents'.format(len(result.inserted_ids)), file=sys.stderr)\n",
    "\n",
    "\n",
    "if __name__ == '__main__':\n",
    "    main()\n"
   ]
  },
  {
   "cell_type": "markdown",
   "metadata": {},
   "source": [
    "# 整形してMongoDBから抽出したデータをcsvに保存 "
   ]
  },
  {
   "cell_type": "markdown",
   "metadata": {},
   "source": [
    "タイトル、URL、チャンネル名、公開日、視聴回数、Like数、Dislike数、コメント数（一部不正確？）、favorite数（不明）"
   ]
  },
  {
   "cell_type": "code",
   "execution_count": null,
   "metadata": {
    "collapsed": false
   },
   "outputs": [],
   "source": [
    "import csv\n",
    "\n",
    "mongo_client = MongoClient('localhost', 27017)\n",
    "db = mongo_client.kaguya\n",
    "collection = db.luna # kaguyaデータベース -> lunaコレクション\n",
    "\n",
    "# 列名（1行目）を作成\n",
    "## [タイトル、URL、チャンネル名、公開日、視聴回数、Like数、Dislike数、コメント数（一部不正確？）、favorite数（不明）]\n",
    "col_name = ['title', 'url', 'channelTitle', 'publishedAt']\n",
    "statistics_keys = ['viewCount', 'likeCount', 'dislikeCount', 'commentCount', 'favoriteCount']\n",
    "col_name.extend(statistics_keys)\n",
    "sort_key = 'statistics.likeCount' # ひとまずLikeが多い順に保存\n",
    "\n",
    "with open('youtube_result.csv', 'w', newline='', encoding='utf-8') as output_csv:\n",
    "    csv_writer = csv.writer(output_csv)\n",
    "    csv_writer.writerow(col_name) # 列名を記入\n",
    "    \n",
    "    # データを整形しつつcsvに書き込んでいく\n",
    "    for item in collection.find().sort(sort_key, DESCENDING):\n",
    "        url = 'https://www.youtube.com/watch?v=' + item['_id']\n",
    "        row_items = [item['snippet']['title'], url, item['snippet']['channelTitle'], item['snippet']['publishedAt']]\n",
    "        \n",
    "        # 値が入っていない部分を埋めるために統計量についてfor文を回す\n",
    "        for statistics_key in statistics_keys:\n",
    "            item['statistics'].setdefault(statistics_key, 0)\n",
    "            row_items.append(item['statistics'][statistics_key]) # 列名と同じ順番になるようにstatistics_keysでfor文を回す\n",
    "\n",
    "        csv_writer.writerow(row_items)\n"
   ]
  },
  {
   "cell_type": "code",
   "execution_count": null,
   "metadata": {
    "collapsed": false,
    "scrolled": true
   },
   "outputs": [],
   "source": [
    "# 輝夜月の公式動画のみ抽出\n",
    "for item in collection.find({'snippet.channelTitle': 'Kaguya Luna Official'}).sort('statistics.viewCount', DESCENDING):\n",
    "    print(item['statistics']['viewCount'], item['snippet']['channelTitle'], item['snippet']['title'])"
   ]
  },
  {
   "cell_type": "markdown",
   "metadata": {},
   "source": [
    "# 保存したデータをpandasに読み込んで分析"
   ]
  },
  {
   "cell_type": "code",
   "execution_count": null,
   "metadata": {
    "collapsed": false
   },
   "outputs": [],
   "source": [
    "import pandas as pd\n",
    "\n",
    "# csvファイルを読み込む\n",
    "df = pd.read_csv('youtube_result.csv')\n",
    "\n",
    "# 「活発度」列を作る\n",
    "# 再生数に対してどれだけのコメントが集まっているか\n",
    "df['活発度'] = df['commentCount'] / df['viewCount']\n",
    "\n",
    "# 「好感度」列を作る\n",
    "# 再生数に対してどれだけLikeが集まっているか\n",
    "df['好感度'] = df['likeCount'] / df['viewCount']"
   ]
  },
  {
   "cell_type": "code",
   "execution_count": null,
   "metadata": {
    "collapsed": false,
    "scrolled": true
   },
   "outputs": [],
   "source": [
    "# 好感度順にソート\n",
    "# オフィシャル動画のみ抽出\n",
    "df[df['channelTitle'] == 'Kaguya Luna Official'].sort_values(by=['好感度'], ascending=False)"
   ]
  },
  {
   "cell_type": "markdown",
   "metadata": {},
   "source": [
    "参考"
   ]
  },
  {
   "cell_type": "code",
   "execution_count": null,
   "metadata": {
    "collapsed": false
   },
   "outputs": [],
   "source": [
    "# 視聴回数上位100位で活発度順にソート\n",
    "df.sort_values(by=['viewCount'], ascending=False).head(100).sort_values(by=['活発度'], ascending=False)"
   ]
  },
  {
   "cell_type": "code",
   "execution_count": null,
   "metadata": {
    "collapsed": true
   },
   "outputs": [],
   "source": []
  }
 ],
 "metadata": {
  "kernelspec": {
   "display_name": "Python [py35]",
   "language": "python",
   "name": "Python [py35]"
  },
  "language_info": {
   "codemirror_mode": {
    "name": "ipython",
    "version": 3
   },
   "file_extension": ".py",
   "mimetype": "text/x-python",
   "name": "python",
   "nbconvert_exporter": "python",
   "pygments_lexer": "ipython3",
   "version": "3.5.2"
  },
  "toc": {
   "colors": {
    "hover_highlight": "#DAA520",
    "running_highlight": "#FF0000",
    "selected_highlight": "#FFD700"
   },
   "moveMenuLeft": true,
   "nav_menu": {
    "height": "65px",
    "width": "252px"
   },
   "navigate_menu": true,
   "number_sections": true,
   "sideBar": true,
   "threshold": 4,
   "toc_cell": false,
   "toc_section_display": "block",
   "toc_window_display": false
  }
 },
 "nbformat": 4,
 "nbformat_minor": 0
}
